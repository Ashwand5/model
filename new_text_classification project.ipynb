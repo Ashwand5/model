{
 "cells": [
  {
   "cell_type": "markdown",
   "source": [
    "## TEXT EMOTION"
   ],
   "metadata": {
    "collapsed": false
   },
   "id": "4e9d8366f6c28b31"
  },
  {
   "cell_type": "code",
   "execution_count": 1,
   "outputs": [],
   "source": [
    "import pickle"
   ],
   "metadata": {
    "collapsed": false,
    "ExecuteTime": {
     "end_time": "2024-08-02T08:51:06.919575400Z",
     "start_time": "2024-08-02T08:51:06.904167700Z"
    }
   },
   "id": "375a54757e98b346"
  },
  {
   "cell_type": "code",
   "execution_count": 1,
   "outputs": [],
   "source": [],
   "metadata": {
    "collapsed": false,
    "ExecuteTime": {
     "end_time": "2024-08-02T08:51:06.962155Z",
     "start_time": "2024-08-02T08:51:06.918574700Z"
    }
   },
   "id": "304b5c76bdda3e04"
  },
  {
   "cell_type": "code",
   "execution_count": 2,
   "outputs": [
    {
     "name": "stderr",
     "output_type": "stream",
     "text": [
      "C:\\Users\\ashwa\\miniconda3\\envs\\DL\\lib\\site-packages\\sklearn\\base.py:376: InconsistentVersionWarning: Trying to unpickle estimator TfidfTransformer from version 1.4.1.post1 when using version 1.4.2. This might lead to breaking code or invalid results. Use at your own risk. For more info please refer to:\n",
      "https://scikit-learn.org/stable/model_persistence.html#security-maintainability-limitations\n",
      "  warnings.warn(\n",
      "C:\\Users\\ashwa\\miniconda3\\envs\\DL\\lib\\site-packages\\sklearn\\base.py:376: InconsistentVersionWarning: Trying to unpickle estimator TfidfVectorizer from version 1.4.1.post1 when using version 1.4.2. This might lead to breaking code or invalid results. Use at your own risk. For more info please refer to:\n",
      "https://scikit-learn.org/stable/model_persistence.html#security-maintainability-limitations\n",
      "  warnings.warn(\n",
      "C:\\Users\\ashwa\\miniconda3\\envs\\DL\\lib\\site-packages\\sklearn\\base.py:376: InconsistentVersionWarning: Trying to unpickle estimator MultinomialNB from version 1.4.1.post1 when using version 1.4.2. This might lead to breaking code or invalid results. Use at your own risk. For more info please refer to:\n",
      "https://scikit-learn.org/stable/model_persistence.html#security-maintainability-limitations\n",
      "  warnings.warn(\n",
      "C:\\Users\\ashwa\\miniconda3\\envs\\DL\\lib\\site-packages\\sklearn\\base.py:376: InconsistentVersionWarning: Trying to unpickle estimator Pipeline from version 1.4.1.post1 when using version 1.4.2. This might lead to breaking code or invalid results. Use at your own risk. For more info please refer to:\n",
      "https://scikit-learn.org/stable/model_persistence.html#security-maintainability-limitations\n",
      "  warnings.warn(\n"
     ]
    }
   ],
   "source": [
    "with open('Naive_bayes_classifier.pkl','rb') as file:\n",
    "    clf=pickle.load(file)"
   ],
   "metadata": {
    "collapsed": false,
    "ExecuteTime": {
     "end_time": "2024-08-02T08:51:07.303687700Z",
     "start_time": "2024-08-02T08:51:06.937288900Z"
    }
   },
   "id": "a28772bfe70de27c"
  },
  {
   "cell_type": "code",
   "execution_count": 3,
   "outputs": [],
   "source": [
    "labels={0:'sadness ', 1:'joy', 2:'love', 3:'anger', 4:'fear',5:'surprise'}"
   ],
   "metadata": {
    "collapsed": false,
    "ExecuteTime": {
     "end_time": "2024-08-02T08:51:07.307126900Z",
     "start_time": "2024-08-02T08:51:07.291436100Z"
    }
   },
   "id": "e03d781bf4e19b6c"
  },
  {
   "cell_type": "code",
   "execution_count": 4,
   "outputs": [],
   "source": [
    "text='i lost someone'"
   ],
   "metadata": {
    "collapsed": false,
    "ExecuteTime": {
     "end_time": "2024-08-02T08:51:07.363575800Z",
     "start_time": "2024-08-02T08:51:07.305696600Z"
    }
   },
   "id": "a666556680f420d3"
  },
  {
   "cell_type": "code",
   "execution_count": 5,
   "outputs": [
    {
     "data": {
      "text/plain": "'sadness '"
     },
     "execution_count": 5,
     "metadata": {},
     "output_type": "execute_result"
    }
   ],
   "source": [
    "prediction = clf.predict([text])\n",
    "labels[prediction[0]]"
   ],
   "metadata": {
    "collapsed": false,
    "ExecuteTime": {
     "end_time": "2024-08-02T08:51:07.412308100Z",
     "start_time": "2024-08-02T08:51:07.322940400Z"
    }
   },
   "id": "c66789d533e9072c"
  },
  {
   "cell_type": "markdown",
   "source": [
    "## AUDIO EMOTION"
   ],
   "metadata": {
    "collapsed": false
   },
   "id": "25f4109a4adf8036"
  },
  {
   "cell_type": "code",
   "execution_count": 5,
   "outputs": [],
   "source": [],
   "metadata": {
    "collapsed": false,
    "ExecuteTime": {
     "end_time": "2024-08-02T08:51:07.416137700Z",
     "start_time": "2024-08-02T08:51:07.351529900Z"
    }
   },
   "id": "8c4daf5e95fb8a75"
  },
  {
   "cell_type": "code",
   "execution_count": 5,
   "outputs": [],
   "source": [],
   "metadata": {
    "collapsed": false,
    "ExecuteTime": {
     "end_time": "2024-08-02T08:51:07.442914600Z",
     "start_time": "2024-08-02T08:51:07.367921700Z"
    }
   },
   "id": "723de0b7168f0a42"
  },
  {
   "cell_type": "code",
   "execution_count": 5,
   "outputs": [],
   "source": [],
   "metadata": {
    "collapsed": false,
    "ExecuteTime": {
     "end_time": "2024-08-02T08:51:07.504551200Z",
     "start_time": "2024-08-02T08:51:07.389340700Z"
    }
   },
   "id": "31a085c181821569"
  },
  {
   "cell_type": "code",
   "execution_count": 5,
   "outputs": [],
   "source": [],
   "metadata": {
    "collapsed": false,
    "ExecuteTime": {
     "end_time": "2024-08-02T08:51:07.508552700Z",
     "start_time": "2024-08-02T08:51:07.403158500Z"
    }
   },
   "id": "6f3a55caa0380eed"
  },
  {
   "cell_type": "code",
   "execution_count": 6,
   "outputs": [
    {
     "name": "stdout",
     "output_type": "stream",
     "text": [
      "Requirement already satisfied: keras==2.3.1 in c:\\users\\ashwa\\miniconda3\\envs\\dl\\lib\\site-packages (2.3.1)\n",
      "Requirement already satisfied: numpy>=1.9.1 in c:\\users\\ashwa\\miniconda3\\envs\\dl\\lib\\site-packages (from keras==2.3.1) (1.26.4)\n",
      "Requirement already satisfied: scipy>=0.14 in c:\\users\\ashwa\\miniconda3\\envs\\dl\\lib\\site-packages (from keras==2.3.1) (1.11.4)\n",
      "Requirement already satisfied: six>=1.9.0 in c:\\users\\ashwa\\miniconda3\\envs\\dl\\lib\\site-packages (from keras==2.3.1) (1.16.0)\n",
      "Requirement already satisfied: pyyaml in c:\\users\\ashwa\\miniconda3\\envs\\dl\\lib\\site-packages (from keras==2.3.1) (6.0.1)\n",
      "Requirement already satisfied: h5py in c:\\users\\ashwa\\miniconda3\\envs\\dl\\lib\\site-packages (from keras==2.3.1) (3.11.0)\n",
      "Requirement already satisfied: keras-applications>=1.0.6 in c:\\users\\ashwa\\miniconda3\\envs\\dl\\lib\\site-packages (from keras==2.3.1) (1.0.8)\n",
      "Requirement already satisfied: keras-preprocessing>=1.0.5 in c:\\users\\ashwa\\miniconda3\\envs\\dl\\lib\\site-packages (from keras==2.3.1) (1.1.2)\n"
     ]
    }
   ],
   "source": [
    "!pip install keras==2.3.1"
   ],
   "metadata": {
    "collapsed": false,
    "ExecuteTime": {
     "end_time": "2024-08-02T08:51:10.212302300Z",
     "start_time": "2024-08-02T08:51:07.419311200Z"
    }
   },
   "id": "22b010d9674b63ca"
  },
  {
   "cell_type": "code",
   "execution_count": 7,
   "outputs": [
    {
     "name": "stderr",
     "output_type": "stream",
     "text": [
      "Using TensorFlow backend.\n"
     ]
    },
    {
     "ename": "ImportError",
     "evalue": "cannot import name 'context' from 'tensorflow.python.eager' (unknown location)",
     "output_type": "error",
     "traceback": [
      "\u001B[1;31m---------------------------------------------------------------------------\u001B[0m",
      "\u001B[1;31mImportError\u001B[0m                               Traceback (most recent call last)",
      "Cell \u001B[1;32mIn[7], line 1\u001B[0m\n\u001B[1;32m----> 1\u001B[0m \u001B[38;5;28;01mfrom\u001B[39;00m \u001B[38;5;21;01mkeras\u001B[39;00m\u001B[38;5;21;01m.\u001B[39;00m\u001B[38;5;21;01mmodels\u001B[39;00m \u001B[38;5;28;01mimport\u001B[39;00m load_model\n\u001B[0;32m      2\u001B[0m \u001B[38;5;28;01mimport\u001B[39;00m \u001B[38;5;21;01mnumpy\u001B[39;00m \u001B[38;5;28;01mas\u001B[39;00m \u001B[38;5;21;01mnp\u001B[39;00m\n\u001B[0;32m      3\u001B[0m \u001B[38;5;28;01mimport\u001B[39;00m \u001B[38;5;21;01mlibrosa\u001B[39;00m\n",
      "File \u001B[1;32m~\\miniconda3\\envs\\DL\\lib\\site-packages\\keras\\__init__.py:3\u001B[0m\n\u001B[0;32m      1\u001B[0m \u001B[38;5;28;01mfrom\u001B[39;00m \u001B[38;5;21;01m__future__\u001B[39;00m \u001B[38;5;28;01mimport\u001B[39;00m absolute_import\n\u001B[1;32m----> 3\u001B[0m \u001B[38;5;28;01mfrom\u001B[39;00m \u001B[38;5;21;01m.\u001B[39;00m \u001B[38;5;28;01mimport\u001B[39;00m utils\n\u001B[0;32m      4\u001B[0m \u001B[38;5;28;01mfrom\u001B[39;00m \u001B[38;5;21;01m.\u001B[39;00m \u001B[38;5;28;01mimport\u001B[39;00m activations\n\u001B[0;32m      5\u001B[0m \u001B[38;5;28;01mfrom\u001B[39;00m \u001B[38;5;21;01m.\u001B[39;00m \u001B[38;5;28;01mimport\u001B[39;00m applications\n",
      "File \u001B[1;32m~\\miniconda3\\envs\\DL\\lib\\site-packages\\keras\\utils\\__init__.py:6\u001B[0m\n\u001B[0;32m      4\u001B[0m \u001B[38;5;28;01mfrom\u001B[39;00m \u001B[38;5;21;01m.\u001B[39;00m \u001B[38;5;28;01mimport\u001B[39;00m data_utils\n\u001B[0;32m      5\u001B[0m \u001B[38;5;28;01mfrom\u001B[39;00m \u001B[38;5;21;01m.\u001B[39;00m \u001B[38;5;28;01mimport\u001B[39;00m io_utils\n\u001B[1;32m----> 6\u001B[0m \u001B[38;5;28;01mfrom\u001B[39;00m \u001B[38;5;21;01m.\u001B[39;00m \u001B[38;5;28;01mimport\u001B[39;00m conv_utils\n\u001B[0;32m      7\u001B[0m \u001B[38;5;28;01mfrom\u001B[39;00m \u001B[38;5;21;01m.\u001B[39;00m \u001B[38;5;28;01mimport\u001B[39;00m losses_utils\n\u001B[0;32m      8\u001B[0m \u001B[38;5;28;01mfrom\u001B[39;00m \u001B[38;5;21;01m.\u001B[39;00m \u001B[38;5;28;01mimport\u001B[39;00m metrics_utils\n",
      "File \u001B[1;32m~\\miniconda3\\envs\\DL\\lib\\site-packages\\keras\\utils\\conv_utils.py:9\u001B[0m\n\u001B[0;32m      7\u001B[0m \u001B[38;5;28;01mfrom\u001B[39;00m \u001B[38;5;21;01msix\u001B[39;00m\u001B[38;5;21;01m.\u001B[39;00m\u001B[38;5;21;01mmoves\u001B[39;00m \u001B[38;5;28;01mimport\u001B[39;00m \u001B[38;5;28mrange\u001B[39m\n\u001B[0;32m      8\u001B[0m \u001B[38;5;28;01mimport\u001B[39;00m \u001B[38;5;21;01mnumpy\u001B[39;00m \u001B[38;5;28;01mas\u001B[39;00m \u001B[38;5;21;01mnp\u001B[39;00m\n\u001B[1;32m----> 9\u001B[0m \u001B[38;5;28;01mfrom\u001B[39;00m \u001B[38;5;21;01m.\u001B[39;00m\u001B[38;5;21;01m.\u001B[39;00m \u001B[38;5;28;01mimport\u001B[39;00m backend \u001B[38;5;28;01mas\u001B[39;00m K\n\u001B[0;32m     12\u001B[0m \u001B[38;5;28;01mdef\u001B[39;00m \u001B[38;5;21mnormalize_tuple\u001B[39m(value, n, name):\n\u001B[0;32m     13\u001B[0m \u001B[38;5;250m    \u001B[39m\u001B[38;5;124;03m\"\"\"Transforms a single int or iterable of ints into an int tuple.\u001B[39;00m\n\u001B[0;32m     14\u001B[0m \n\u001B[0;32m     15\u001B[0m \u001B[38;5;124;03m    # Arguments\u001B[39;00m\n\u001B[1;32m   (...)\u001B[0m\n\u001B[0;32m     27\u001B[0m \u001B[38;5;124;03m        passed.\u001B[39;00m\n\u001B[0;32m     28\u001B[0m \u001B[38;5;124;03m    \"\"\"\u001B[39;00m\n",
      "File \u001B[1;32m~\\miniconda3\\envs\\DL\\lib\\site-packages\\keras\\backend\\__init__.py:1\u001B[0m\n\u001B[1;32m----> 1\u001B[0m \u001B[38;5;28;01mfrom\u001B[39;00m \u001B[38;5;21;01m.\u001B[39;00m\u001B[38;5;21;01mload_backend\u001B[39;00m \u001B[38;5;28;01mimport\u001B[39;00m epsilon\n\u001B[0;32m      2\u001B[0m \u001B[38;5;28;01mfrom\u001B[39;00m \u001B[38;5;21;01m.\u001B[39;00m\u001B[38;5;21;01mload_backend\u001B[39;00m \u001B[38;5;28;01mimport\u001B[39;00m set_epsilon\n\u001B[0;32m      3\u001B[0m \u001B[38;5;28;01mfrom\u001B[39;00m \u001B[38;5;21;01m.\u001B[39;00m\u001B[38;5;21;01mload_backend\u001B[39;00m \u001B[38;5;28;01mimport\u001B[39;00m floatx\n",
      "File \u001B[1;32m~\\miniconda3\\envs\\DL\\lib\\site-packages\\keras\\backend\\load_backend.py:90\u001B[0m\n\u001B[0;32m     88\u001B[0m \u001B[38;5;28;01melif\u001B[39;00m _BACKEND \u001B[38;5;241m==\u001B[39m \u001B[38;5;124m'\u001B[39m\u001B[38;5;124mtensorflow\u001B[39m\u001B[38;5;124m'\u001B[39m:\n\u001B[0;32m     89\u001B[0m     sys\u001B[38;5;241m.\u001B[39mstderr\u001B[38;5;241m.\u001B[39mwrite(\u001B[38;5;124m'\u001B[39m\u001B[38;5;124mUsing TensorFlow backend.\u001B[39m\u001B[38;5;130;01m\\n\u001B[39;00m\u001B[38;5;124m'\u001B[39m)\n\u001B[1;32m---> 90\u001B[0m     \u001B[38;5;28;01mfrom\u001B[39;00m \u001B[38;5;21;01m.\u001B[39;00m\u001B[38;5;21;01mtensorflow_backend\u001B[39;00m \u001B[38;5;28;01mimport\u001B[39;00m \u001B[38;5;241m*\u001B[39m\n\u001B[0;32m     91\u001B[0m \u001B[38;5;28;01melse\u001B[39;00m:\n\u001B[0;32m     92\u001B[0m     \u001B[38;5;66;03m# Try and load external backend.\u001B[39;00m\n\u001B[0;32m     93\u001B[0m     \u001B[38;5;28;01mtry\u001B[39;00m:\n",
      "File \u001B[1;32m~\\miniconda3\\envs\\DL\\lib\\site-packages\\keras\\backend\\tensorflow_backend.py:6\u001B[0m\n\u001B[0;32m      3\u001B[0m \u001B[38;5;28;01mfrom\u001B[39;00m \u001B[38;5;21;01m__future__\u001B[39;00m \u001B[38;5;28;01mimport\u001B[39;00m print_function\n\u001B[0;32m      5\u001B[0m \u001B[38;5;28;01mimport\u001B[39;00m \u001B[38;5;21;01mtensorflow\u001B[39;00m \u001B[38;5;28;01mas\u001B[39;00m \u001B[38;5;21;01mtf\u001B[39;00m\n\u001B[1;32m----> 6\u001B[0m \u001B[38;5;28;01mfrom\u001B[39;00m \u001B[38;5;21;01mtensorflow\u001B[39;00m\u001B[38;5;21;01m.\u001B[39;00m\u001B[38;5;21;01mpython\u001B[39;00m\u001B[38;5;21;01m.\u001B[39;00m\u001B[38;5;21;01meager\u001B[39;00m \u001B[38;5;28;01mimport\u001B[39;00m context\n\u001B[0;32m      7\u001B[0m \u001B[38;5;28;01mfrom\u001B[39;00m \u001B[38;5;21;01mtensorflow\u001B[39;00m\u001B[38;5;21;01m.\u001B[39;00m\u001B[38;5;21;01mpython\u001B[39;00m\u001B[38;5;21;01m.\u001B[39;00m\u001B[38;5;21;01mframework\u001B[39;00m \u001B[38;5;28;01mimport\u001B[39;00m device \u001B[38;5;28;01mas\u001B[39;00m tfdev\n\u001B[0;32m      8\u001B[0m \u001B[38;5;28;01mfrom\u001B[39;00m \u001B[38;5;21;01mtensorflow\u001B[39;00m\u001B[38;5;21;01m.\u001B[39;00m\u001B[38;5;21;01mpython\u001B[39;00m\u001B[38;5;21;01m.\u001B[39;00m\u001B[38;5;21;01mframework\u001B[39;00m \u001B[38;5;28;01mimport\u001B[39;00m ops \u001B[38;5;28;01mas\u001B[39;00m tf_ops\n",
      "\u001B[1;31mImportError\u001B[0m: cannot import name 'context' from 'tensorflow.python.eager' (unknown location)"
     ]
    }
   ],
   "source": [
    "from keras.models import load_model\n",
    "import numpy as np\n",
    "import librosa\n",
    "import keras\n",
    "\n",
    "# Load the saved model\n",
    "model = load_model('emotion_recognition_model (1).h5')\n"
   ],
   "metadata": {
    "collapsed": false,
    "ExecuteTime": {
     "end_time": "2024-08-02T08:51:12.175836Z",
     "start_time": "2024-08-02T08:51:10.213312100Z"
    }
   },
   "id": "d722a2f0104831be"
  },
  {
   "cell_type": "code",
   "execution_count": null,
   "outputs": [],
   "source": [],
   "metadata": {
    "collapsed": false,
    "ExecuteTime": {
     "start_time": "2024-08-02T08:51:12.169835900Z"
    }
   },
   "id": "eaf58c9e97201f37"
  },
  {
   "cell_type": "code",
   "execution_count": null,
   "outputs": [],
   "source": [
    "keras.__version__"
   ],
   "metadata": {
    "collapsed": false,
    "ExecuteTime": {
     "start_time": "2024-08-02T08:51:12.172841800Z"
    }
   },
   "id": "e0320d7a348a5385"
  },
  {
   "cell_type": "code",
   "execution_count": null,
   "outputs": [],
   "source": [
    "audio_path=\"C:/Users/ashwa/Downloads/77KuCk5q5Kr2rCfmxMkfQ2uNvVxgAyEmit3mU6AL.wav\""
   ],
   "metadata": {
    "collapsed": false,
    "ExecuteTime": {
     "end_time": "2024-08-02T08:51:12.177837800Z",
     "start_time": "2024-08-02T08:51:12.176837300Z"
    }
   },
   "id": "c5a0f52cf253fa14"
  },
  {
   "cell_type": "code",
   "execution_count": null,
   "outputs": [],
   "source": [
    "def extract_mfcc(filename):\n",
    "    y, sr = librosa.load(filename, duration=3, offset=0.5)\n",
    "    mfcc = np.mean(librosa.feature.mfcc(y=y, sr=sr, n_mfcc=40).T, axis=0)\n",
    "    return mfcc"
   ],
   "metadata": {
    "collapsed": false,
    "ExecuteTime": {
     "start_time": "2024-08-02T08:51:12.180840200Z"
    }
   },
   "id": "19e7785abf3394b5"
  },
  {
   "cell_type": "code",
   "execution_count": null,
   "outputs": [],
   "source": [
    "import librosa\n",
    "import sounddevice as sd\n",
    "\n",
    "def play_audio(file_path):\n",
    "    y, sr = librosa.load(file_path, sr=None)\n",
    "    sd.play(y, sr)\n",
    "    sd.wait()"
   ],
   "metadata": {
    "collapsed": false,
    "ExecuteTime": {
     "start_time": "2024-08-02T08:51:12.184836100Z"
    }
   },
   "id": "db4d9c0ed3b656d1"
  },
  {
   "cell_type": "markdown",
   "source": [
    " Play audio"
   ],
   "metadata": {
    "collapsed": false
   },
   "id": "386b4c410b3321bc"
  },
  {
   "cell_type": "code",
   "execution_count": null,
   "outputs": [],
   "source": [
    "play_audio(audio_path)"
   ],
   "metadata": {
    "collapsed": false,
    "ExecuteTime": {
     "end_time": "2024-08-02T08:51:12.274974700Z",
     "start_time": "2024-08-02T08:51:12.186839400Z"
    }
   },
   "id": "1c264c87e3aee92c"
  },
  {
   "cell_type": "markdown",
   "source": [
    "##"
   ],
   "metadata": {
    "collapsed": false
   },
   "id": "2cc364fe8647ecd6"
  },
  {
   "cell_type": "code",
   "execution_count": null,
   "outputs": [],
   "source": [
    "X_new = extract_mfcc(audio_path)"
   ],
   "metadata": {
    "collapsed": false,
    "ExecuteTime": {
     "start_time": "2024-08-02T08:51:12.188836900Z"
    }
   },
   "id": "4db4b6b4fa283af3"
  },
  {
   "cell_type": "markdown",
   "source": [],
   "metadata": {
    "collapsed": false
   },
   "id": "fc4f8970a4472544"
  },
  {
   "cell_type": "code",
   "execution_count": null,
   "outputs": [],
   "source": [
    "X_new = np.expand_dims(np.expand_dims(X_new, axis=0), axis=-1)"
   ],
   "metadata": {
    "collapsed": false,
    "ExecuteTime": {
     "start_time": "2024-08-02T08:51:12.189837600Z"
    }
   },
   "id": "f8a6b9537160e6df"
  },
  {
   "cell_type": "code",
   "execution_count": null,
   "outputs": [],
   "source": [
    "predictions = model.predict(X_new)"
   ],
   "metadata": {
    "collapsed": false,
    "ExecuteTime": {
     "start_time": "2024-08-02T08:51:12.191837800Z"
    }
   },
   "id": "fb7d3b4d9a0d8882"
  },
  {
   "cell_type": "code",
   "execution_count": null,
   "outputs": [],
   "source": [
    "# Define the list of emotion labels\n",
    "emotion_labels = ['fear','angry','disgust' ,'neutral','sad','pleasant suprise','happy']\n",
    "dic={'fear':'பயம்','angry':'கோபம்','disgust':'அருவருப்பு' ,'neutral':'நடுநிலை','sad':'துக்கம்','pleasant suprise':'இன்ப அதிர்ச்சி','happy':'மகிழ்ச்சி'}\n",
    "\n",
    "# Find the index of the maximum value in the predictions array\n",
    "predicted_label_index = np.argmax(predictions)\n",
    "\n",
    "# Retrieve the predicted emotion label from the list using the index\n",
    "predicted_emotion = emotion_labels[predicted_label_index]\n",
    "\n",
    "# Print or use the predicted emotion label\n",
    "print(\"Predicted Emotion: \", predicted_emotion,\"\\nIn Tamil: \",dic[predicted_emotion])"
   ],
   "metadata": {
    "collapsed": false,
    "ExecuteTime": {
     "start_time": "2024-08-02T08:51:12.193834700Z"
    }
   },
   "id": "26758184750d77c2"
  },
  {
   "cell_type": "code",
   "execution_count": null,
   "outputs": [],
   "source": [],
   "metadata": {
    "collapsed": false,
    "ExecuteTime": {
     "start_time": "2024-08-02T08:51:12.194834600Z"
    }
   },
   "id": "4298eed971030d88"
  }
 ],
 "metadata": {
  "kernelspec": {
   "display_name": "Python 3",
   "language": "python",
   "name": "python3"
  },
  "language_info": {
   "codemirror_mode": {
    "name": "ipython",
    "version": 2
   },
   "file_extension": ".py",
   "mimetype": "text/x-python",
   "name": "python",
   "nbconvert_exporter": "python",
   "pygments_lexer": "ipython2",
   "version": "2.7.6"
  }
 },
 "nbformat": 4,
 "nbformat_minor": 5
}
