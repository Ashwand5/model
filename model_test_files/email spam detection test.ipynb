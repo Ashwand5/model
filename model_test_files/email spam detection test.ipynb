{
 "cells": [
  {
   "metadata": {
    "ExecuteTime": {
     "end_time": "2024-08-21T17:24:02.646170Z",
     "start_time": "2024-08-21T17:24:02.600778Z"
    }
   },
   "cell_type": "code",
   "source": "import joblib",
   "id": "20719ae903ba33ef",
   "outputs": [],
   "execution_count": 1
  },
  {
   "metadata": {
    "ExecuteTime": {
     "end_time": "2024-08-21T17:27:10.540505Z",
     "start_time": "2024-08-21T17:27:10.442744Z"
    }
   },
   "cell_type": "code",
   "source": [
    "vectorizer = joblib.load('D:/Users 2.o/PY charm/ML/testpython.py/.idea/classification/vectorizer.pkl')\n",
    "model = joblib.load('D:/Users 2.o/PY charm/ML/testpython.py/.idea/classification/spam email detection.pkl')"
   ],
   "id": "e0d60f80e201e4fb",
   "outputs": [],
   "execution_count": 6
  },
  {
   "metadata": {
    "ExecuteTime": {
     "end_time": "2024-08-21T17:27:11.564636Z",
     "start_time": "2024-08-21T17:27:11.553685Z"
    }
   },
   "cell_type": "code",
   "source": [
    "new_mail = ['Congratulations you have won a prize']\n",
    "new_data__features= vectorizer.transform(new_mail)\n",
    "prediction= model.predict(new_data__features)\n",
    "\n",
    "if (prediction[0]==0):\n",
    "    print(\"Not Spam mail\")\n",
    "else:\n",
    "    print(\"Spam mail\")"
   ],
   "id": "5e44d12dc1f71e5c",
   "outputs": [
    {
     "name": "stdout",
     "output_type": "stream",
     "text": [
      "Spam mail\n"
     ]
    }
   ],
   "execution_count": 7
  },
  {
   "metadata": {},
   "cell_type": "code",
   "outputs": [],
   "execution_count": null,
   "source": "",
   "id": "b98270306bfb965"
  }
 ],
 "metadata": {
  "kernelspec": {
   "display_name": "Python 3",
   "language": "python",
   "name": "python3"
  },
  "language_info": {
   "codemirror_mode": {
    "name": "ipython",
    "version": 2
   },
   "file_extension": ".py",
   "mimetype": "text/x-python",
   "name": "python",
   "nbconvert_exporter": "python",
   "pygments_lexer": "ipython2",
   "version": "2.7.6"
  }
 },
 "nbformat": 4,
 "nbformat_minor": 5
}
